{
 "cells": [
  {
   "cell_type": "markdown",
   "id": "a78a227e-884d-4fe9-bb9f-fdda29d618d0",
   "metadata": {},
   "source": [
    "## pip install requests beautifulsoup4 textblob nltk\n"
   ]
  },
  {
   "cell_type": "code",
   "execution_count": 3,
   "id": "e5d91275-1984-494c-bccf-2a8b88f9961b",
   "metadata": {
    "scrolled": true
   },
   "outputs": [
    {
     "name": "stdout",
     "output_type": "stream",
     "text": [
      "Overall Sentiment: Sentiment(polarity=-0.12797619047619047, subjectivity=0.39226190476190476)\n",
      "Sentence: The suspects are believed to have broken into a number of sheds before starting a fire, police say.\n",
      "Sentiment: Sentiment(polarity=-0.2, subjectivity=0.25)\n",
      "Sentence: Kyiza Sandiford murdered Keleen Wong in a revenge stabbing filmed by a dashcam in a passers-by car.\n",
      "Sentiment: Sentiment(polarity=-0.6, subjectivity=0.8)\n",
      "Sentence: The 1961 Fender Stratocaster, bought for £100, had a reserve price of between £700,000 and £1m.\n",
      "Sentiment: Sentiment(polarity=0.0, subjectivity=0.0)\n",
      "Sentence: Sir Christopher Chope faces criticism as he suggests Badenoch could not commit to the demands of being party leader.\n",
      "Sentiment: Sentiment(polarity=0.0, subjectivity=0.0)\n",
      "Sentence: Rooms on Stormont's third floor are set to be fumigated on Friday due to an infestation of cluster flies.\n",
      "Sentiment: Sentiment(polarity=-0.0625, subjectivity=0.1875)\n",
      "Sentence: England's path to a possible home Rugby World Cup triumph has been mapped out, with the hosts placed in a pool with Australia, USA, and Samoa for next summer's tournament.\n",
      "Sentiment: Sentiment(polarity=0.0, subjectivity=0.5)\n",
      "Sentence: The offending happened at a nursing home in Bingley in 2022, Bradford Crown Court is told.\n",
      "Sentiment: Sentiment(polarity=0.0, subjectivity=0.0)\n",
      "Sentence: A report highlights issues around safeguarding policies and \"inappropriate\" social media posts.\n",
      "Sentiment: Sentiment(polarity=0.03333333333333333, subjectivity=0.06666666666666667)\n",
      "Sentence: Wycombe boss Matt Bloomfield says it is important his side continue to improve and show the \"ruthless\" attitude that served them well before the international break.\n",
      "Sentiment: Sentiment(polarity=-0.19999999999999998, subjectivity=0.6666666666666666)\n",
      "Sentence: Copyright 2024 BBC.\n",
      "Sentiment: Sentiment(polarity=0.0, subjectivity=0.0)\n",
      "Sentence: All rights reserved.\n",
      "Sentiment: Sentiment(polarity=0.0, subjectivity=0.0)\n",
      "Sentence: The BBC is not responsible for the content of external sites.\n",
      "Sentiment: Sentiment(polarity=-0.05, subjectivity=0.325)\n",
      "Sentence: Read about our approach to external linking.\n",
      "Sentiment: Sentiment(polarity=0.0, subjectivity=0.1)\n"
     ]
    }
   ],
   "source": [
    "# Import necessary libraries\n",
    "import requests\n",
    "from bs4 import BeautifulSoup\n",
    "from textblob import TextBlob\n",
    "\n",
    "# Step 1: Download the news article\n",
    "url = 'https://www.bbc.com/news/world-61720158'  # Use a real article URL here\n",
    "response = requests.get(url)\n",
    "\n",
    "# Step 2: Parse the article's HTML using BeautifulSoup\n",
    "soup = BeautifulSoup(response.content, 'html5lib')\n",
    "\n",
    "# Extract text from relevant tags, like <p> for paragraphs\n",
    "article_text = ' '.join([p.get_text() for p in soup.find_all('p')])\n",
    "\n",
    "# Step 3: Create a TextBlob and analyze the sentiment\n",
    "blob = TextBlob(article_text)\n",
    "\n",
    "# Step 4: Display the overall sentiment\n",
    "print(\"Overall Sentiment:\", blob.sentiment)\n",
    "\n",
    "# Step 5: Analyze sentiment sentence by sentence\n",
    "for sentence in blob.sentences:\n",
    "    print(f\"Sentence: {sentence}\")\n",
    "    print(f\"Sentiment: {sentence.sentiment}\")\n"
   ]
  },
  {
   "cell_type": "code",
   "execution_count": 6,
   "id": "1e2ff867-cd91-4958-87ff-0048ee8e7be7",
   "metadata": {},
   "outputs": [
    {
     "name": "stdout",
     "output_type": "stream",
     "text": [
      "Defaulting to user installation because normal site-packages is not writeable\n",
      "Collecting html5lib\n",
      "  Downloading html5lib-1.1-py2.py3-none-any.whl.metadata (16 kB)\n",
      "Requirement already satisfied: six>=1.9 in c:\\programdata\\anaconda3\\lib\\site-packages (from html5lib) (1.16.0)\n",
      "Requirement already satisfied: webencodings in c:\\programdata\\anaconda3\\lib\\site-packages (from html5lib) (0.5.1)\n",
      "Downloading html5lib-1.1-py2.py3-none-any.whl (112 kB)\n",
      "   ---------------------------------------- 0.0/112.2 kB ? eta -:--:--\n",
      "   --- ------------------------------------ 10.2/112.2 kB ? eta -:--:--\n",
      "   --- ------------------------------------ 10.2/112.2 kB ? eta -:--:--\n",
      "   -------------- ------------------------ 41.0/112.2 kB 326.8 kB/s eta 0:00:01\n",
      "   ---------------------------------- --- 102.4/112.2 kB 658.3 kB/s eta 0:00:01\n",
      "   -------------------------------------- 112.2/112.2 kB 545.1 kB/s eta 0:00:00\n",
      "Installing collected packages: html5lib\n",
      "Successfully installed html5lib-1.1\n",
      "Note: you may need to restart the kernel to use updated packages.\n"
     ]
    }
   ],
   "source": [
    "%pip install html5lib\n"
   ]
  },
  {
   "cell_type": "code",
   "execution_count": null,
   "id": "b798cae5-26af-41c1-81bf-dcf961b55b16",
   "metadata": {},
   "outputs": [],
   "source": []
  }
 ],
 "metadata": {
  "kernelspec": {
   "display_name": "Python 3 (ipykernel)",
   "language": "python",
   "name": "python3"
  },
  "language_info": {
   "codemirror_mode": {
    "name": "ipython",
    "version": 3
   },
   "file_extension": ".py",
   "mimetype": "text/x-python",
   "name": "python",
   "nbconvert_exporter": "python",
   "pygments_lexer": "ipython3",
   "version": "3.12.4"
  }
 },
 "nbformat": 4,
 "nbformat_minor": 5
}
